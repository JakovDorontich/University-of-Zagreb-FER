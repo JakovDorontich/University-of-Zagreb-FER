{
 "cells": [
  {
   "cell_type": "markdown",
   "metadata": {},
   "source": [
    "Sveučilište u Zagrebu  \n",
    "Fakultet elektrotehnike i računarstva  \n",
    "  \n",
    "## Strojno učenje 2019/2020  \n",
    "http://www.fer.unizg.hr/predmet/su"
   ]
  },
  {
   "cell_type": "markdown",
   "metadata": {},
   "source": [
    "------------------------------\n",
    "\n",
    "### Laboratorijska vježba 1: Regresija\n",
    "\n",
    "*Verzija: 1.2  \n",
    "Zadnji put ažurirano: 27. rujna 2019.*\n",
    "\n",
    "(c) 2015-2019 Jan Šnajder, Domagoj Alagić \n",
    "\n",
    "Objavljeno: **30. rujna 2019.**  \n",
    "Rok za predaju: **21. listopada 2019. u 07:00h**\n",
    "\n",
    "------------------------------"
   ]
  },
  {
   "cell_type": "markdown",
   "metadata": {},
   "source": [
    "### Upute\n",
    "\n",
    "Prva laboratorijska vježba sastoji se od deset zadataka. U nastavku slijedite upute navedene u ćelijama s tekstom. Rješavanje vježbe svodi se na **dopunjavanje ove bilježnice**: umetanja ćelije ili više njih **ispod** teksta zadatka, pisanja odgovarajućeg kôda te evaluiranja ćelija. \n",
    "\n",
    "Osigurajte da u potpunosti **razumijete** kôd koji ste napisali. Kod predaje vježbe, morate biti u stanju na zahtjev asistenta (ili demonstratora) preinačiti i ponovno evaluirati Vaš kôd. Nadalje, morate razumjeti teorijske osnove onoga što radite, u okvirima onoga što smo obradili na predavanju. Ispod nekih zadataka možete naći i pitanja koja služe kao smjernice za bolje razumijevanje gradiva (**nemojte pisati** odgovore na pitanja u bilježnicu). Stoga se nemojte ograničiti samo na to da riješite zadatak, nego slobodno eksperimentirajte. To upravo i jest svrha ovih vježbi.\n",
    "\n",
    "Vježbe trebate raditi **samostalno**. Možete se konzultirati s drugima o načelnom načinu rješavanja, ali u konačnici morate sami odraditi vježbu. U protivnome vježba nema smisla."
   ]
  },
  {
   "cell_type": "code",
   "execution_count": 1,
   "metadata": {},
   "outputs": [
    {
     "name": "stdout",
     "output_type": "stream",
     "text": [
      "Populating the interactive namespace from numpy and matplotlib\n"
     ]
    }
   ],
   "source": [
    "# Učitaj osnovne biblioteke...\n",
    "import numpy as np\n",
    "import sklearn\n",
    "from sklearn import metrics\n",
    "import matplotlib.pyplot as plt\n",
    "%pylab inline"
   ]
  },
  {
   "cell_type": "markdown",
   "metadata": {},
   "source": [
    "## Zadatci"
   ]
  },
  {
   "cell_type": "markdown",
   "metadata": {},
   "source": [
    "### 1. Jednostavna regresija"
   ]
  },
  {
   "cell_type": "markdown",
   "metadata": {},
   "source": [
    "Zadan je skup primjera $\\mathcal{D}=\\{(x^{(i)},y^{(i)})\\}_{i=1}^4 = \\{(0,4),(1,1),(2,2),(4,5)\\}$. Primjere predstavite matricom $\\mathbf{X}$ dimenzija $N\\times n$ (u ovom slučaju $4\\times 1$) i vektorom oznaka $\\textbf{y}$, dimenzija $N\\times 1$ (u ovom slučaju $4\\times 1$), na sljedeći način:\n"
   ]
  },
  {
   "cell_type": "code",
   "execution_count": 2,
   "metadata": {},
   "outputs": [],
   "source": [
    "X = np.array([[0],[1],[2],[4]])\n",
    "y = np.array([4,1,2,5])"
   ]
  },
  {
   "cell_type": "markdown",
   "metadata": {},
   "source": [
    "### (a)\n",
    "\n",
    "Proučite funkciju [`PolynomialFeatures`](http://scikit-learn.org/stable/modules/generated/sklearn.preprocessing.PolynomialFeatures.html) iz biblioteke `sklearn` i upotrijebite je za generiranje matrice dizajna $\\mathbf{\\Phi}$ koja ne koristi preslikavanje u prostor više dimenzije (samo će svakom primjeru biti dodane *dummy* jedinice; $m=n+1$).\n"
   ]
  },
  {
   "cell_type": "code",
   "execution_count": 3,
   "metadata": {},
   "outputs": [],
   "source": [
    "from sklearn.preprocessing import PolynomialFeatures"
   ]
  },
  {
   "cell_type": "code",
   "execution_count": 4,
   "metadata": {},
   "outputs": [
    {
     "name": "stdout",
     "output_type": "stream",
     "text": [
      "Matrica dizajna je oblika:\n",
      "[[1. 0.]\n",
      " [1. 1.]\n",
      " [1. 2.]\n",
      " [1. 4.]]\n"
     ]
    }
   ],
   "source": [
    "O = PolynomialFeatures(1).fit_transform(X)\n",
    "print (\"Matrica dizajna je oblika:\")\n",
    "print (O)"
   ]
  },
  {
   "cell_type": "markdown",
   "metadata": {},
   "source": [
    "### (b)"
   ]
  },
  {
   "cell_type": "markdown",
   "metadata": {},
   "source": [
    "Upoznajte se s modulom [`linalg`](http://docs.scipy.org/doc/numpy/reference/routines.linalg.html). Izračunajte težine $\\mathbf{w}$ modela linearne regresije kao $\\mathbf{w}=(\\mathbf{\\Phi}^\\intercal\\mathbf{\\Phi})^{-1}\\mathbf{\\Phi}^\\intercal\\mathbf{y}$. Zatim se uvjerite da isti rezultat možete dobiti izračunom pseudoinverza $\\mathbf{\\Phi}^+$ matrice dizajna, tj. $\\mathbf{w}=\\mathbf{\\Phi}^+\\mathbf{y}$, korištenjem funkcije [`pinv`](http://docs.scipy.org/doc/numpy/reference/generated/numpy.linalg.pinv.html)."
   ]
  },
  {
   "cell_type": "code",
   "execution_count": 5,
   "metadata": {},
   "outputs": [],
   "source": [
    "from numpy import linalg"
   ]
  },
  {
   "cell_type": "code",
   "execution_count": 6,
   "metadata": {},
   "outputs": [
    {
     "name": "stdout",
     "output_type": "stream",
     "text": [
      "[2.2        0.45714286]\n",
      "[2.2        0.45714286]\n",
      "Linearni model w je oblika: 0.4571x + 2.2\n"
     ]
    }
   ],
   "source": [
    "pom = matmul( inv(matmul(transpose(O), O)), transpose(O))\n",
    "w2 = matmul(pom, y)\n",
    "print (w2)\n",
    "w = matmul(pinv(O), y)\n",
    "print (w)\n",
    "\n",
    "print(\"Linearni model w je oblika: \" + str(round(w[1], 4)) + \"x\" + \" + \" + str(round(w[0], 4)))"
   ]
  },
  {
   "cell_type": "markdown",
   "metadata": {},
   "source": [
    "Radi jasnoće, u nastavku je vektor $\\mathbf{x}$ s dodanom *dummy* jedinicom $x_0=1$ označen kao $\\tilde{\\mathbf{x}}$."
   ]
  },
  {
   "cell_type": "markdown",
   "metadata": {},
   "source": [
    "### (c)"
   ]
  },
  {
   "cell_type": "markdown",
   "metadata": {},
   "source": [
    "Prikažite primjere iz $\\mathcal{D}$ i funkciju $h(\\tilde{\\mathbf{x}})=\\mathbf{w}^\\intercal\\tilde{\\mathbf{x}}$. Izračunajte pogrešku učenja prema izrazu $E(h|\\mathcal{D})=\\frac{1}{2}\\sum_{i=1}^N(\\tilde{\\mathbf{y}}^{(i)} - h(\\tilde{\\mathbf{x}}))^2$. Možete koristiti funkciju srednje kvadratne pogreške [`mean_squared_error`]( http://scikit-learn.org/stable/modules/generated/sklearn.metrics.mean_squared_error.html) iz modula [`sklearn.metrics`](http://scikit-learn.org/stable/modules/classes.html#module-sklearn.metrics).\n",
    "\n",
    "**Q:** Gore definirana funkcija pogreške $E(h|\\mathcal{D})$ i funkcija srednje kvadratne pogreške nisu posve identične. U čemu je razlika? Koja je \"realnija\"?"
   ]
  },
  {
   "cell_type": "code",
   "execution_count": 7,
   "metadata": {},
   "outputs": [
    {
     "name": "stdout",
     "output_type": "stream",
     "text": [
      "Stvarna vrijednost y: [4 1 2 5]\n",
      "Predpostavljena vrijednost y: [2.2    2.6571 3.1143 4.0286]\n",
      "Pogreška učenja E iznosi: 2.0429\n",
      "Funkcija srednje kvadratne pogreške E iznosi:  4.0857\n"
     ]
    },
    {
     "data": {
      "image/png": "[encoded data removed]",
      "text/plain": [
       "<Figure size 432x288 with 1 Axes>"
      ]
     },
     "metadata": {
      "needs_background": "light"
     },
     "output_type": "display_data"
    }
   ],
   "source": [
    "y2 = np.array([])\n",
    "for x in O:\n",
    "    h = matmul(transpose(w), x)\n",
    "    y2 = append(y2, h)\n",
    "\n",
    "print (\"Stvarna vrijednost y: \", end=\"\")\n",
    "print (y)\n",
    "print (\"Predpostavljena vrijednost y: \", end=\"\")\n",
    "print (around(y2, decimals=4))\n",
    "\n",
    "E = sklearn.metrics.mean_squared_error(y, y2)\n",
    "print(\"Pogreška učenja E iznosi: \" + str(round(E, 4)))\n",
    "\n",
    "E2=0\n",
    "for i in range(len(y)):\n",
    "    E2 = E2 + (y[i]-y2[i])**2\n",
    "E2 = E2/2\n",
    "print(\"Funkcija srednje kvadratne pogreške E iznosi: \", str(round(E2, 4)))\n",
    "\n",
    "plt.scatter(X, y)\n",
    "plt.plot(X, y2, \"r\")\n",
    "plt.plot(X, y2, \"ro\")\n",
    "plt.show()"
   ]
  },
  {
   "cell_type": "markdown",
   "metadata": {},
   "source": [
    "### (d)"
   ]
  },
  {
   "cell_type": "markdown",
   "metadata": {},
   "source": [
    "Uvjerite se da za primjere iz $\\mathcal{D}$ težine $\\mathbf{w}$ ne možemo naći rješavanjem sustava $\\mathbf{w}=\\mathbf{\\Phi}^{-1}\\mathbf{y}$, već da nam doista treba pseudoinverz.\n",
    "\n",
    "**Q:** Zašto je to slučaj? Bi li se problem mogao riješiti preslikavanjem primjera u višu dimenziju? Ako da, bi li to uvijek funkcioniralo, neovisno o skupu primjera $\\mathcal{D}$? Pokažite na primjeru."
   ]
  },
  {
   "cell_type": "code",
   "execution_count": 8,
   "metadata": {},
   "outputs": [
    {
     "name": "stdout",
     "output_type": "stream",
     "text": [
      "Greška: Last 2 dimensions of the array must be square\n"
     ]
    }
   ],
   "source": [
    "try:\n",
    "    w_err = matmul(inv(O), y)\n",
    "except LinAlgError as e:\n",
    "    print (\"Greška: \" + str(e))"
   ]
  },
  {
   "cell_type": "markdown",
   "metadata": {},
   "source": [
    "### (e) "
   ]
  },
  {
   "cell_type": "markdown",
   "metadata": {},
   "source": [
    "Proučite klasu [`LinearRegression`](http://scikit-learn.org/stable/modules/generated/sklearn.linear_model.LinearRegression.html) iz modula [`sklearn.linear_model`](http://scikit-learn.org/stable/modules/classes.html#module-sklearn.linear_model). Uvjerite se da su težine koje izračunava ta funkcija (dostupne pomoću atributa `coef_` i `intercept_`) jednake onima koje ste izračunali gore. Izračunajte predikcije modela (metoda `predict`) i uvjerite se da je pogreška učenja identična onoj koju ste ranije izračunali."
   ]
  },
  {
   "cell_type": "code",
   "execution_count": 9,
   "metadata": {},
   "outputs": [],
   "source": [
    "from sklearn.linear_model import LinearRegression"
   ]
  },
  {
   "cell_type": "code",
   "execution_count": 10,
   "metadata": {},
   "outputs": [
    {
     "name": "stdout",
     "output_type": "stream",
     "text": [
      "Prije izračunati w0: 2.2\n",
      "LinearRegression w0: 2.2\n",
      "\n",
      "Prije izračunati w1: 0.4571\n",
      "LinearRegression w1: 0.4571\n",
      "\n",
      "Prije izračunata predpostavljena vrijednost y: [2.2    2.6571 3.1143 4.0286]\n",
      "LinearRegression predpostavljena vrijednost y: [2.2    2.6571 3.1143 4.0286]\n",
      "\n",
      "Prije izračunata pogreška učenja E iznosi: 2.0429\n",
      "LinearRegression pogreška učenja E iznosi: 2.0429\n"
     ]
    }
   ],
   "source": [
    "reg = LinearRegression().fit(X, y)\n",
    "print (\"Prije izračunati w0: \" + str(around(w[0], decimals=4)))\n",
    "print (\"LinearRegression w0: \" + str(around(reg.intercept_, decimals=4)) + \"\\n\")\n",
    "\n",
    "print (\"Prije izračunati w1: \" + str(around(w[1], decimals=4)))\n",
    "print (\"LinearRegression w1: \" + str(around(reg.coef_[0], decimals=4)) + \"\\n\")\n",
    "\n",
    "y3 = reg.predict(X)\n",
    "print (\"Prije izračunata predpostavljena vrijednost y: \" + str(around(y2, decimals=4)))\n",
    "print (\"LinearRegression predpostavljena vrijednost y: \" + str(around(y3, decimals=4)) + \"\\n\")\n",
    "\n",
    "E3 = sklearn.metrics.mean_squared_error(y, y3)\n",
    "print(\"Prije izračunata pogreška učenja E iznosi: \" + str(round(E, 4)))\n",
    "print(\"LinearRegression pogreška učenja E iznosi: \" + str(round(E3, 4)))"
   ]
  },
  {
   "cell_type": "markdown",
   "metadata": {},
   "source": [
    "### 2. Polinomijalna regresija i utjecaj šuma"
   ]
  },
  {
   "cell_type": "markdown",
   "metadata": {},
   "source": [
    "### (a)\n",
    "\n",
    "Razmotrimo sada regresiju na većem broju primjera. Definirajte funkciju `make_labels(X, f, noise=0)` koja uzima matricu neoznačenih primjera $\\mathbf{X}_{N\\times n}$ te generira vektor njihovih oznaka $\\mathbf{y}_{N\\times 1}$. Oznake se generiraju kao $y^{(i)} = f(x^{(i)})+\\mathcal{N}(0,\\sigma^2)$, gdje je $f:\\mathbb{R}^n\\to\\mathbb{R}$ stvarna funkcija koja je generirala podatke (koja nam je u stvarnosti nepoznata), a $\\sigma$ je standardna devijacija Gaussovog šuma, definirana parametrom `noise`. Za generiranje šuma možete koristiti funkciju [`numpy.random.normal`](https://docs.scipy.org/doc/numpy-1.15.0/reference/generated/numpy.random.normal.html). \n",
    "\n",
    "Generirajte skup za učenje od $N=50$ primjera uniformno distribuiranih u intervalu $[-5,5]$ pomoću funkcije $f(x) = 5 + x -2 x^2 -5 x^3$ uz šum  $\\sigma=200$:"
   ]
  },
  {
   "cell_type": "code",
   "execution_count": 11,
   "metadata": {},
   "outputs": [],
   "source": [
    "from numpy.random import normal\n",
    "\n",
    "def make_labels(X, f, noise=0) :\n",
    "    y = np.array([])\n",
    "    for x in X:\n",
    "        yi = f(x)+ normal(0, noise)\n",
    "        y = append(y, yi)\n",
    "    return y"
   ]
  },
  {
   "cell_type": "code",
   "execution_count": 12,
   "metadata": {},
   "outputs": [],
   "source": [
    "def make_instances(x1, x2, N) :\n",
    "    return np.array([np.array([x]) for x in np.linspace(x1,x2,N)])"
   ]
  },
  {
   "cell_type": "markdown",
   "metadata": {},
   "source": [
    "Prikažite taj skup funkcijom [`scatter`](http://matplotlib.org/api/pyplot_api.html#matplotlib.pyplot.scatter)."
   ]
  },
  {
   "cell_type": "code",
   "execution_count": 13,
   "metadata": {},
   "outputs": [
    {
     "data": {
      "image/png": "[encoded data removed]",
      "text/plain": [
       "<Figure size 432x288 with 1 Axes>"
      ]
     },
     "metadata": {
      "needs_background": "light"
     },
     "output_type": "display_data"
    }
   ],
   "source": [
    "def f(x):\n",
    "    return (5 + x - 2*pow(x,2) - 5*pow(x,3))\n",
    "\n",
    "X = make_instances(-5, 5, 50)\n",
    "y = make_labels(X, f, noise=200)\n",
    "\n",
    "plt.scatter(X, y)\n",
    "plt.show()"
   ]
  },
  {
   "cell_type": "markdown",
   "metadata": {},
   "source": [
    "### (b)"
   ]
  },
  {
   "cell_type": "markdown",
   "metadata": {},
   "source": [
    "Trenirajte model polinomijalne regresije stupnja $d=3$. Na istom grafikonu prikažite naučeni model $h(\\mathbf{x})=\\mathbf{w}^\\intercal\\tilde{\\mathbf{x}}$ i primjere za učenje. Izračunajte pogrešku učenja modela."
   ]
  },
  {
   "cell_type": "code",
   "execution_count": 14,
   "metadata": {},
   "outputs": [
    {
     "name": "stdout",
     "output_type": "stream",
     "text": [
      "Model w je oblika: -7.0049x^3 + -4.8681x^2 + 39.5591x + 38.7333\n",
      "Pogreška učenja E iznosi: 33644.1379\n"
     ]
    },
    {
     "data": {
      "image/png": "[encoded data removed]",
      "text/plain": [
       "<Figure size 432x288 with 1 Axes>"
      ]
     },
     "metadata": {
      "needs_background": "light"
     },
     "output_type": "display_data"
    }
   ],
   "source": [
    "O = PolynomialFeatures(3).fit_transform(X)\n",
    "w = matmul(pinv(O), y)\n",
    "print(\"Model w je oblika: \" + str(round(w[3], 4)) + \"x^3 + \" + str(round(w[2], 4)) + \"x^2 + \" + str(round(w[1], 4)) + \"x + \" + str(round(w[0], 4)))\n",
    "\n",
    "y2 = np.array([])\n",
    "for x in O:\n",
    "    h = matmul(transpose(w), x)\n",
    "    y2 = append(y2, h)\n",
    "    \n",
    "E = sklearn.metrics.mean_squared_error(y, y2)\n",
    "print(\"Pogreška učenja E iznosi: \" + str(round(E, 4)))\n",
    "\n",
    "plt.scatter(X, y)\n",
    "plt.plot(X, y2, \"r\")\n",
    "plt.show()"
   ]
  },
  {
   "cell_type": "markdown",
   "metadata": {},
   "source": [
    "### 3. Odabir modela"
   ]
  },
  {
   "cell_type": "markdown",
   "metadata": {},
   "source": [
    "### (a)\n",
    "\n",
    "Na skupu podataka iz zadatka 2 trenirajte pet modela linearne regresije $\\mathcal{H}_d$ različite složenosti, gdje je $d$ stupanj polinoma, $d\\in\\{1,3,5,10,20\\}$. Prikažite na istome grafikonu skup za učenje i funkcije $h_d(\\mathbf{x})$ za svih pet modela (preporučujemo koristiti `plot` unutar `for` petlje). Izračunajte pogrešku učenja svakog od modela.\n",
    "\n",
    "**Q:** Koji model ima najmanju pogrešku učenja i zašto?"
   ]
  },
  {
   "cell_type": "code",
   "execution_count": 15,
   "metadata": {},
   "outputs": [
    {
     "name": "stdout",
     "output_type": "stream",
     "text": [
      "Pogreška učenja E za stupanj polinoma 1 iznosi: 54740.8432\n",
      "Pogreška učenja E za stupanj polinoma 3 iznosi: 33644.1379\n",
      "Pogreška učenja E za stupanj polinoma 5 iznosi: 30712.2875\n",
      "Pogreška učenja E za stupanj polinoma 10 iznosi: 27244.9345\n",
      "Pogreška učenja E za stupanj polinoma 20 iznosi: 15309.7997\n"
     ]
    },
    {
     "data": {
      "image/png": "[encoded data removed]",
      "text/plain": [
       "<Figure size 432x288 with 1 Axes>"
      ]
     },
     "metadata": {
      "needs_background": "light"
     },
     "output_type": "display_data"
    }
   ],
   "source": [
    "plt.scatter(X, y)\n",
    "for d in [1, 3, 5, 10, 20]:\n",
    "    O = PolynomialFeatures(d).fit_transform(X)\n",
    "    w = matmul(pinv(O), y)\n",
    "    y2 = np.array([])\n",
    "    for x in O:\n",
    "        h = matmul(transpose(w), x)\n",
    "        y2 = append(y2, h)\n",
    "    E = sklearn.metrics.mean_squared_error(y, y2)\n",
    "    plt.plot(X, y2)\n",
    "    print(\"Pogreška učenja E za stupanj polinoma \"+ str(d) +\" iznosi: \" + str(round(E, 4)))\n",
    "    \n",
    "plt.show()"
   ]
  },
  {
   "cell_type": "markdown",
   "metadata": {},
   "source": [
    "### (b)"
   ]
  },
  {
   "cell_type": "markdown",
   "metadata": {},
   "source": [
    "Razdvojite skup primjera iz zadatka 2 pomoću funkcije [`model_selection.train_test_split`](https://scikit-learn.org/stable/modules/generated/sklearn.model_selection.train_test_split.html) na skup za učenja i skup za ispitivanje u omjeru 1:1. Prikažite na jednom grafikonu pogrešku učenja i ispitnu pogrešku za modele polinomijalne regresije $\\mathcal{H}_d$, sa stupnjem polinoma $d$ u rasponu $d\\in [1,2,\\ldots,20]$. Budući da kvadratna pogreška brzo raste za veće stupnjeve polinoma, umjesto da iscrtate izravno iznose pogrešaka, iscrtajte njihove logaritme.\n",
    "\n",
    "**NB:** Podjela na skupa za učenje i skup za ispitivanje mora za svih pet modela biti identična.\n",
    "\n",
    "**Q:** Je li rezultat u skladu s očekivanjima? Koji biste model odabrali i zašto?\n",
    "\n",
    "**Q:** Pokrenite iscrtavanje više puta. U čemu je problem? Bi li problem bio jednako izražen kad bismo imali više primjera? Zašto?"
   ]
  },
  {
   "cell_type": "code",
   "execution_count": 16,
   "metadata": {},
   "outputs": [],
   "source": [
    "from sklearn.model_selection import train_test_split"
   ]
  },
  {
   "cell_type": "code",
   "execution_count": 17,
   "metadata": {},
   "outputs": [
    {
     "data": {
      "image/png": "[encoded data removed]",
      "text/plain": [
       "<Figure size 432x288 with 1 Axes>"
      ]
     },
     "metadata": {
      "needs_background": "light"
     },
     "output_type": "display_data"
    }
   ],
   "source": [
    "X_train, X_test, y_train, y_test = train_test_split(X, y, test_size=0.5)\n",
    "\n",
    "pogreska_ucenja = np.array([])\n",
    "ispitna_pogreska = np.array([])\n",
    "for d in range(1, 21):\n",
    "    poly = PolynomialFeatures(d)\n",
    "    O_train = poly.fit_transform(X_train)\n",
    "    O_test = poly.fit_transform(X_test)\n",
    "    \n",
    "    regresion = LinearRegression().fit(O_train, y_train)\n",
    "    y2_train = regresion.predict(O_train)\n",
    "    y2_test = regresion.predict(O_test)\n",
    "    \n",
    "    E_train = sklearn.metrics.mean_squared_error(y_train, y2_train)\n",
    "    E_test = sklearn.metrics.mean_squared_error(y_test, y2_test)\n",
    "    pogreska_ucenja = np.append(pogreska_ucenja, log(E_train))\n",
    "    ispitna_pogreska = np.append(ispitna_pogreska, log(E_test))\n",
    "\n",
    "plt.plot(range(1, 21), ispitna_pogreska, 'm')\n",
    "plt.plot(range(1, 21), pogreska_ucenja, 'b')\n",
    "plt.show()\n",
    "\n"
   ]
  },
  {
   "cell_type": "markdown",
   "metadata": {},
   "source": [
    "### (c)"
   ]
  },
  {
   "cell_type": "markdown",
   "metadata": {},
   "source": [
    "Točnost modela ovisi o (1) njegovoj složenosti (stupanj $d$ polinoma), (2) broju primjera $N$, i (3) količini šuma. Kako biste to analizirali, nacrtajte grafikone pogrešaka kao u 3b, ali za različit $N\\in$ (trećina, dvije trećine, sve) i količine šuma $\\sigma\\in\\{100,200,500\\}$ (ukupno 9 grafikona). Upotrijebite funkciju [`subplots`](http://matplotlib.org/examples/pylab_examples/subplots_demo.html) kako biste pregledno posložili grafikone u tablicu $3\\times 3$. Podatci se generiraju na isti način kao u zadatku 2.\n",
    "\n",
    "**NB:** Pobrinite se da svi grafikoni budu generirani nad usporedivim skupovima podataka, na sljedeći način. Generirajte najprije svih 1000 primjera, podijelite ih na skupove za učenje i skupove za ispitivanje (dva skupa od po 500 primjera). Zatim i od skupa za učenje i od skupa za ispitivanje načinite tri različite verzije, svaka s drugačijom količinom šuma (ukupno 2x3=6 verzija podataka). Kako bi simulirali veličinu skupa podataka, od tih dobivenih 6 skupova podataka uzorkujte trećinu, dvije trećine i sve podatke. Time ste dobili 18 skupova podataka -- skup za učenje i za testiranje za svaki od devet grafova."
   ]
  },
  {
   "cell_type": "code",
   "execution_count": 18,
   "metadata": {},
   "outputs": [
    {
     "data": {
      "image/png": "[encoded data removed]",
      "text/plain": [
       "<Figure size 432x288 with 9 Axes>"
      ]
     },
     "metadata": {
      "needs_background": "light"
     },
     "output_type": "display_data"
    }
   ],
   "source": [
    "X = make_instances(-5, 5, 1000)\n",
    "X_train, X_test = train_test_split(X, test_size=0.5)\n",
    "\n",
    "y_train_100 = make_labels(X_train, f, noise=100)\n",
    "y_train_200 = make_labels(X_train, f, noise=200)\n",
    "y_train_500 = make_labels(X_train, f, noise=500)\n",
    "y_train = [y_train_100, y_train_200, y_train_500]\n",
    "\n",
    "y_test_100 = make_labels(X_test, f, noise=100)\n",
    "y_test_200 = make_labels(X_test, f, noise=200)\n",
    "y_test_500 = make_labels(X_test, f, noise=500)\n",
    "y_test = [y_test_100, y_test_200, y_test_500]\n",
    "\n",
    "fig, axs = plt.subplots(3, 3)\n",
    "\n",
    "for i in range(0, 3):\n",
    "    for j in range(0, 3):\n",
    "        N = (500 * (j+1))//3\n",
    "        pogreska_ucenja = np.array([])\n",
    "        ispitna_pogreska = np.array([])\n",
    "        for d in range(1, 21):\n",
    "            poly = PolynomialFeatures(d)\n",
    "            O_train = poly.fit_transform(X_train[0:N])\n",
    "            O_test = poly.fit_transform(X_test[0:N])\n",
    "            \n",
    "            regresion = LinearRegression().fit(O_train, y_train[i][0:N])\n",
    "            y2_train = regresion.predict(O_train)\n",
    "            y2_test = regresion.predict(O_test)\n",
    "            \n",
    "            E_train = sklearn.metrics.mean_squared_error(y_train[i][0:N], y2_train)\n",
    "            E_test = sklearn.metrics.mean_squared_error(y_test[i][0:N], y2_test)\n",
    "            pogreska_ucenja = np.append(pogreska_ucenja, log(E_train))\n",
    "            ispitna_pogreska = np.append(ispitna_pogreska, log(E_test))\n",
    "            \n",
    "        axs[i, j].plot(range(1, 21), ispitna_pogreska, 'm')\n",
    "        axs[i, j].plot(range(1, 21), pogreska_ucenja, 'b')\n",
    "        axs[i, j].set_title(\"N: \" + str(N))\n",
    "\n",
    "plt.show()        "
   ]
  },
  {
   "cell_type": "markdown",
   "metadata": {},
   "source": [
    "***Q:*** Jesu li rezultati očekivani? Obrazložite."
   ]
  },
  {
   "cell_type": "markdown",
   "metadata": {},
   "source": [
    "### 4. Regularizirana regresija"
   ]
  },
  {
   "cell_type": "markdown",
   "metadata": {},
   "source": [
    "### (a)\n",
    "\n",
    "U gornjim eksperimentima nismo koristili **regularizaciju**. Vratimo se najprije na primjer iz zadatka 1. Na primjerima iz tog zadatka izračunajte težine $\\mathbf{w}$ za polinomijalni regresijski model stupnja $d=3$ uz L2-regularizaciju (tzv. *ridge regression*), prema izrazu $\\mathbf{w}=(\\mathbf{\\Phi}^\\intercal\\mathbf{\\Phi}+\\lambda\\mathbf{I})^{-1}\\mathbf{\\Phi}^\\intercal\\mathbf{y}$. Napravite izračun težina za regularizacijske faktore $\\lambda=0$, $\\lambda=1$ i $\\lambda=10$ te usporedite dobivene težine.\n",
    "\n",
    "**Q:** Kojih je dimenzija matrica koju treba invertirati?\n",
    "\n",
    "**Q:** Po čemu se razlikuju dobivene težine i je li ta razlika očekivana? Obrazložite."
   ]
  },
  {
   "cell_type": "code",
   "execution_count": 36,
   "metadata": {},
   "outputs": [
    {
     "name": "stdout",
     "output_type": "stream",
     "text": [
      "Model w je za lambda 0 oblika: -0.4583x^3 + 3.375x^2 + -5.9167x + 4.0\n",
      "Model w je za lambda 1 oblika: 0.1446x^3 + -0.2832x^2 + -0.6908x + 3.057\n",
      "Model w je za lambda 10 oblika: 0.0816x^3 + -0.1342x^2 + -0.159x + 2.4944\n"
     ]
    }
   ],
   "source": [
    "X = np.array([[0],[1],[2],[4]])\n",
    "y = np.array([4,1,2,5])\n",
    "O = PolynomialFeatures(3).fit_transform(X)\n",
    "\n",
    "I = identity(4)\n",
    "I[0][0] = 0\n",
    "for lambd in [0, 1, 10]:\n",
    "    pom = matmul( inv( add(matmul(transpose(O), O), lambd * I)), transpose(O))\n",
    "    w = matmul(pom, y)\n",
    "    print(\"Model w je za lambda \" + str(lambd) + \" oblika: \" + str(round(w[3], 4)) + \"x^3 + \" + str(round(w[2], 4)) + \"x^2 + \" + str(round(w[1], 4)) + \"x + \" + str(round(w[0], 4)))\n",
    "    "
   ]
  },
  {
   "cell_type": "markdown",
   "metadata": {},
   "source": [
    "### (b)"
   ]
  },
  {
   "cell_type": "markdown",
   "metadata": {},
   "source": [
    "Proučite klasu [`Ridge`](http://scikit-learn.org/stable/modules/generated/sklearn.linear_model.Ridge.html#sklearn.linear_model.Ridge) iz modula [`sklearn.linear_model`](http://scikit-learn.org/stable/modules/classes.html#module-sklearn.linear_model), koja implementira L2-regularizirani regresijski model. Parametar $\\alpha$ odgovara parametru $\\lambda$. Primijenite model na istim primjerima kao u prethodnom zadatku i ispišite težine $\\mathbf{w}$ (atributi `coef_` i `intercept_`).\n",
    "\n",
    "**Q:** Jesu li težine identične onima iz zadatka 4a? Ako nisu, objasnite zašto je to tako i kako biste to popravili."
   ]
  },
  {
   "cell_type": "code",
   "execution_count": 20,
   "metadata": {},
   "outputs": [],
   "source": [
    "from sklearn.linear_model import Ridge"
   ]
  },
  {
   "cell_type": "code",
   "execution_count": 21,
   "metadata": {},
   "outputs": [
    {
     "name": "stdout",
     "output_type": "stream",
     "text": [
      "Model w je za lambda 0 oblika: -0.4583x^3 + 3.375x^2 + -5.9167x + 4.0\n",
      "Model w je za lambda 1 oblika: 0.1446x^3 + -0.2832x^2 + -0.6908x + 3.057\n",
      "Model w je za lambda 10 oblika: 0.0816x^3 + -0.1342x^2 + -0.159x + 2.4944\n"
     ]
    }
   ],
   "source": [
    "for lambd in [0, 1, 10]:\n",
    "    clf = Ridge(alpha=lambd).fit(O, y)\n",
    "    w = [clf.intercept_, *clf.coef_[1:]]\n",
    "    print(\"Model w je za lambda \" + str(lambd) + \" oblika: \" + str(round(w[3], 4)) + \"x^3 + \" + str(round(w[2], 4)) + \"x^2 + \" + str(round(w[1], 4)) + \"x + \" + str(round(w[0], 4)))\n"
   ]
  },
  {
   "cell_type": "markdown",
   "metadata": {},
   "source": [
    "### 5. Regularizirana polinomijalna regresija"
   ]
  },
  {
   "cell_type": "markdown",
   "metadata": {},
   "source": [
    "### (a)\n",
    "\n",
    "Vratimo se na slučaj $N=50$ slučajno generiranih primjera iz zadatka 2. Trenirajte modele polinomijalne regresije $\\mathcal{H}_{\\lambda,d}$ za $\\lambda\\in\\{0,100\\}$ i $d\\in\\{2,10\\}$ (ukupno četiri modela). Skicirajte pripadne funkcije $h(\\mathbf{x})$ i primjere (na jednom grafikonu; preporučujemo koristiti `plot` unutar `for` petlje).\n",
    "\n",
    "**Q:** Jesu li rezultati očekivani? Obrazložite."
   ]
  },
  {
   "cell_type": "code",
   "execution_count": 22,
   "metadata": {},
   "outputs": [
    {
     "data": {
      "image/png": "[encoded data removed]",
      "text/plain": [
       "<Figure size 432x288 with 1 Axes>"
      ]
     },
     "metadata": {
      "needs_background": "light"
     },
     "output_type": "display_data"
    }
   ],
   "source": [
    "X = make_instances(-5, 5, 50)\n",
    "y = make_labels(X, f, noise=200)\n",
    "\n",
    "plt.scatter(X, y)\n",
    "for lambd in [0, 100]:\n",
    "    for d in [2, 10]:\n",
    "        O = PolynomialFeatures(d).fit_transform(X)\n",
    "        regresion = Ridge(alpha=lambd).fit(O, y)\n",
    "        y2 = regresion.predict(O)\n",
    "        \n",
    "        plt.plot(X, y2)\n",
    "\n",
    "plt.show()\n"
   ]
  },
  {
   "cell_type": "markdown",
   "metadata": {},
   "source": [
    "### (b)\n",
    "\n",
    "Kao u zadataku 3b, razdvojite primjere na skup za učenje i skup za ispitivanje u omjeru 1:1. Prikažite krivulje logaritama pogreške učenja i ispitne pogreške u ovisnosti za model $\\mathcal{H}_{d=10,\\lambda}$, podešavajući faktor regularizacije $\\lambda$ u rasponu $\\lambda\\in\\{0,1,\\dots,50\\}$.\n",
    "\n",
    "**Q:** Kojoj strani na grafikonu odgovara područje prenaučenosti, a kojoj podnaučenosti? Zašto?\n",
    "\n",
    "**Q:** Koju biste vrijednosti za $\\lambda$ izabrali na temelju ovih grafikona i zašto?\n"
   ]
  },
  {
   "cell_type": "code",
   "execution_count": 23,
   "metadata": {},
   "outputs": [
    {
     "data": {
      "image/png": "[encoded data removed]",
      "text/plain": [
       "<Figure size 432x288 with 1 Axes>"
      ]
     },
     "metadata": {
      "needs_background": "light"
     },
     "output_type": "display_data"
    }
   ],
   "source": [
    "X_train, X_test, y_train, y_test = train_test_split(X, y, test_size=0.5)\n",
    "poly = PolynomialFeatures(10)\n",
    "\n",
    "O_train = poly.fit_transform(X_train)\n",
    "O_test = poly.fit_transform(X_test)\n",
    "pogreska_ucenja = np.array([])\n",
    "ispitna_pogreska = np.array([])\n",
    "for lambd in range(1, 51):\n",
    "    \n",
    "    regresion = Ridge(alpha=lambd).fit(O_train, y_train)\n",
    "    y2_train = regresion.predict(O_train)\n",
    "    y2_test = regresion.predict(O_test)\n",
    "    \n",
    "    E_train = sklearn.metrics.mean_squared_error(y_train, y2_train)\n",
    "    E_test = sklearn.metrics.mean_squared_error(y_test, y2_test)\n",
    "    pogreska_ucenja = np.append(pogreska_ucenja, log(E_train))\n",
    "    ispitna_pogreska = np.append(ispitna_pogreska, log(E_test))\n",
    "    \n",
    "plt.plot(range(1, 51), ispitna_pogreska, 'm')\n",
    "plt.plot(range(1, 51), pogreska_ucenja, 'b')\n",
    "plt.show()\n"
   ]
  },
  {
   "cell_type": "markdown",
   "metadata": {},
   "source": [
    "### 6. L1-regularizacija i L2-regularizacija"
   ]
  },
  {
   "cell_type": "markdown",
   "metadata": {},
   "source": [
    "Svrha regularizacije jest potiskivanje težina modela $\\mathbf{w}$ prema nuli, kako bi model bio što jednostavniji. Složenost modela može se okarakterizirati normom pripadnog vektora težina $\\mathbf{w}$, i to tipično L2-normom ili L1-normom. Za jednom trenirani model možemo izračunati i broj ne-nul značajki, ili L0-normu, pomoću sljedeće funkcije koja prima vektor težina $\\mathbf{w}$:"
   ]
  },
  {
   "cell_type": "code",
   "execution_count": 24,
   "metadata": {},
   "outputs": [],
   "source": [
    "def nonzeroes(coef, tol=1e-6): \n",
    "    return len(coef) - len(coef[np.isclose(0, coef, atol=tol)])\n",
    "\n",
    "def norma_L1(vector):\n",
    "    suma = 0\n",
    "    for w in vector:\n",
    "        suma += abs(w)\n",
    "    return suma\n",
    "    \n",
    "def norma_L2(vector):\n",
    "    suma = 0\n",
    "    for w in vector:\n",
    "        suma += (w*w)\n",
    "    return math.sqrt(suma)"
   ]
  },
  {
   "cell_type": "markdown",
   "metadata": {},
   "source": [
    "### (a)\n",
    "\n",
    "Za ovaj zadatak upotrijebite skup za učenje i skup za testiranje iz zadatka 3b. Trenirajte modele **L2-regularizirane** polinomijalne regresije stupnja $d=10$, mijenjajući hiperparametar $\\lambda$ u rasponu $\\{1,2,\\dots,100\\}$. Za svaki od treniranih modela izračunajte L{0,1,2}-norme vektora težina $\\mathbf{w}$ te ih prikažite kao funkciju od $\\lambda$. Pripazite što točno šaljete u funkciju za izračun normi.\n",
    "\n",
    "**Q:** Objasnite oblik obiju krivulja. Hoće li krivulja za $\\|\\mathbf{w}\\|_2$ doseći nulu? Zašto? Je li to problem? Zašto?\n",
    "\n",
    "**Q:** Za $\\lambda=100$, koliki je postotak težina modela jednak nuli, odnosno koliko je model rijedak?"
   ]
  },
  {
   "cell_type": "code",
   "execution_count": 25,
   "metadata": {},
   "outputs": [
    {
     "name": "stdout",
     "output_type": "stream",
     "text": [
      "Postotak težina modela jednakih nula: 9.09%\n"
     ]
    },
    {
     "data": {
      "image/png": "[encoded data removed]",
      "text/plain": [
       "<Figure size 432x288 with 1 Axes>"
      ]
     },
     "metadata": {
      "needs_background": "light"
     },
     "output_type": "display_data"
    }
   ],
   "source": [
    "X = make_instances(-5, 5, 50)\n",
    "y = make_labels(X, f, noise=200)\n",
    "X_train, X_test, y_train, y_test = train_test_split(X, y, test_size=0.5)\n",
    "\n",
    "L0=[]; L1=[]; L2=[]\n",
    "\n",
    "O = PolynomialFeatures(10).fit_transform(X_train)\n",
    "for lambd in range(1, 101):\n",
    "    regresion = Ridge(alpha=lambd).fit(O, y_train)\n",
    "    w = regresion.coef_\n",
    "    L0.append(nonzeroes(w))\n",
    "    L1.append(norma_L1(w))\n",
    "    L2.append(norma_L2(w))\n",
    "    \n",
    "    if (lambd == 100):\n",
    "        percentage = (1-nonzeroes(w)/len(w))*100\n",
    "        print (\"Postotak težina modela jednakih nula: \" + str(round(percentage, 2)) + \"%\")\n",
    "    \n",
    "plt.plot(range(1, 101), L0, \"b\")\n",
    "plt.plot(range(1, 101), L1, \"m\")\n",
    "plt.plot(range(1, 101), L2, \"g\")\n",
    "plt.show()"
   ]
  },
  {
   "cell_type": "markdown",
   "metadata": {},
   "source": [
    "### (b)"
   ]
  },
  {
   "cell_type": "markdown",
   "metadata": {},
   "source": [
    "Glavna prednost L1-regularizirane regresije (ili *LASSO regression*) nad L2-regulariziranom regresijom jest u tome što L1-regularizirana regresija rezultira **rijetkim modelima** (engl. *sparse models*), odnosno modelima kod kojih su mnoge težine pritegnute na nulu. Pokažite da je to doista tako, ponovivši gornji eksperiment s **L1-regulariziranom** regresijom, implementiranom u klasi  [`Lasso`](http://scikit-learn.org/stable/modules/generated/sklearn.linear_model.Lasso.html) u modulu [`sklearn.linear_model`](http://scikit-learn.org/stable/modules/classes.html#module-sklearn.linear_model). Zanemarite upozorenja."
   ]
  },
  {
   "cell_type": "code",
   "execution_count": 26,
   "metadata": {},
   "outputs": [
    {
     "name": "stdout",
     "output_type": "stream",
     "text": [
      "Postotak težina modela jednakih nula: 27.27%\n"
     ]
    },
    {
     "data": {
      "image/png": "[encoded data removed]",
      "text/plain": [
       "<Figure size 432x288 with 1 Axes>"
      ]
     },
     "metadata": {
      "needs_background": "light"
     },
     "output_type": "display_data"
    }
   ],
   "source": [
    "from sklearn.linear_model import Lasso\n",
    "import warnings\n",
    "warnings.filterwarnings(\"ignore\")\n",
    "\n",
    "L0=[]; L1=[]; L2=[]\n",
    "for lambd in range(1, 101):\n",
    "    clf = Lasso(alpha=lambd).fit(O, y_train)\n",
    "    w = clf.coef_\n",
    "    L0.append(nonzeroes(w))\n",
    "    L1.append(norma_L1(w))\n",
    "    L2.append(norma_L2(w))\n",
    "    \n",
    "    if (lambd == 100):\n",
    "        percentage = (1-nonzeroes(w)/len(w))*100\n",
    "        print (\"Postotak težina modela jednakih nula: \" + str(round(percentage, 2)) + \"%\")\n",
    "\n",
    "    \n",
    "plt.plot(range(1, 101), L0, \"b\")\n",
    "plt.plot(range(1, 101), L1, \"m\")\n",
    "plt.plot(range(1, 101), L2, \"g\")\n",
    "plt.show()"
   ]
  },
  {
   "cell_type": "markdown",
   "metadata": {},
   "source": [
    "### 7. Značajke različitih skala"
   ]
  },
  {
   "cell_type": "markdown",
   "metadata": {},
   "source": [
    "Često se u praksi možemo susreti sa podatcima u kojima sve značajke nisu jednakih magnituda. Primjer jednog takvog skupa je regresijski skup podataka `grades` u kojem se predviđa prosjek ocjena studenta na studiju (1--5) na temelju dvije značajke: bodova na prijamnom ispitu (1--3000) i prosjeka ocjena u srednjoj školi. Prosjek ocjena na studiju izračunat je kao težinska suma ove dvije značajke uz dodani šum.\n",
    "\n",
    "Koristite sljedeći kôd kako biste generirali ovaj skup podataka."
   ]
  },
  {
   "cell_type": "code",
   "execution_count": 27,
   "metadata": {},
   "outputs": [],
   "source": [
    "n_data_points = 500\n",
    "np.random.seed(69)\n",
    "\n",
    "# Generiraj podatke o bodovima na prijamnom ispitu koristeći normalnu razdiobu i ograniči ih na interval [1, 3000].\n",
    "exam_score = np.random.normal(loc=1500.0, scale = 500.0, size = n_data_points) \n",
    "exam_score = np.round(exam_score)\n",
    "exam_score[exam_score > 3000] = 3000\n",
    "exam_score[exam_score < 0] = 0\n",
    "\n",
    "# Generiraj podatke o ocjenama iz srednje škole koristeći normalnu razdiobu i ograniči ih na interval [1, 5].\n",
    "grade_in_highschool = np.random.normal(loc=3, scale = 2.0, size = n_data_points)\n",
    "grade_in_highschool[grade_in_highschool > 5] = 5\n",
    "grade_in_highschool[grade_in_highschool < 1] = 1\n",
    "\n",
    "# Matrica dizajna.\n",
    "grades_X = np.array([exam_score,grade_in_highschool]).T\n",
    "\n",
    "# Završno, generiraj izlazne vrijednosti.\n",
    "rand_noise = np.random.normal(loc=0.0, scale = 0.5, size = n_data_points)\n",
    "exam_influence = 0.9\n",
    "grades_y = ((exam_score / 3000.0) * (exam_influence) + (grade_in_highschool / 5.0) \\\n",
    "            * (1.0 - exam_influence)) * 5.0 + rand_noise\n",
    "grades_y[grades_y < 1] = 1\n",
    "grades_y[grades_y > 5] = 5"
   ]
  },
  {
   "cell_type": "markdown",
   "metadata": {},
   "source": [
    "**a)** Iscrtajte ovisnost ciljne vrijednosti (y-os) o prvoj i o drugoj značajki (x-os). Iscrtajte dva odvojena grafa."
   ]
  },
  {
   "cell_type": "code",
   "execution_count": 28,
   "metadata": {},
   "outputs": [
    {
     "data": {
      "image/png": "[encoded data removed]",
      "text/plain": [
       "<Figure size 432x288 with 2 Axes>"
      ]
     },
     "metadata": {
      "needs_background": "light"
     },
     "output_type": "display_data"
    }
   ],
   "source": [
    "fig, (ax1, ax2) = plt.subplots(1, 2)\n",
    "ax1.scatter(exam_score, grades_y)\n",
    "ax2.scatter(grade_in_highschool, grades_y)\n",
    "plt.show()"
   ]
  },
  {
   "cell_type": "markdown",
   "metadata": {},
   "source": [
    "**b)** Naučite model L2-regularizirane regresije ($\\lambda = 0.01$), na podacima `grades_X` i `grades_y`:"
   ]
  },
  {
   "cell_type": "code",
   "execution_count": 60,
   "metadata": {},
   "outputs": [
    {
     "name": "stdout",
     "output_type": "stream",
     "text": [
      "0.15061179575776062\n",
      "Model w je za lambda=0.01 oblika: 0.0948grade + 0.0014exam + 0.1506\n"
     ]
    }
   ],
   "source": [
    "clf = Ridge(alpha=0.01).fit(grades_X, grades_y)\n",
    "w = [clf.intercept_, *clf.coef_]\n",
    "print(\"Model w je za lambda=0.01 oblika: \" + str(round(w[2], 4)) + \"grade + \" + str(round(w[1], 4)) + \"exam + \" + str(round(w[0], 4)))\n"
   ]
  },
  {
   "cell_type": "markdown",
   "metadata": {},
   "source": [
    "Sada ponovite gornji eksperiment, ali prvo skalirajte podatke `grades_X` i `grades_y` i spremite ih u varijable `grades_X_fixed` i `grades_y_fixed`. Za tu svrhu, koristite [`StandardScaler`](http://scikit-learn.org/stable/modules/generated/sklearn.preprocessing.StandardScaler.html)."
   ]
  },
  {
   "cell_type": "code",
   "execution_count": 30,
   "metadata": {},
   "outputs": [],
   "source": [
    "from sklearn.preprocessing import StandardScaler"
   ]
  },
  {
   "cell_type": "code",
   "execution_count": 67,
   "metadata": {},
   "outputs": [
    {
     "name": "stdout",
     "output_type": "stream",
     "text": [
      "Model w je za lambda=0.01 oblika: 0.1517grade + 0.8163exam + 0.0\n"
     ]
    }
   ],
   "source": [
    "scaler = StandardScaler()\n",
    "grades_X_fixed = scaler.fit_transform(grades_X)\n",
    "\n",
    "pom = grades_y.reshape(-1, 1)\n",
    "grades_y_fixed = scaler.fit_transform(pom).flatten()\n",
    "\n",
    "clf = Ridge(alpha=0.01).fit(grades_X_fixed, grades_y_fixed)\n",
    "w=[clf.intercept_, *clf.coef_]\n",
    "print(\"Model w je za lambda=0.01 oblika: \" + str(round(w[2], 4)) + \"grade + \" + str(round(w[1], 4)) + \"exam + \" + str(round(w[0], 4)))\n"
   ]
  },
  {
   "cell_type": "markdown",
   "metadata": {},
   "source": [
    "**Q:** Gledajući grafikone iz podzadatka (a), koja značajka bi trebala imati veću magnitudu, odnosno važnost pri predikciji prosjeka na studiju? Odgovaraju li težine Vašoj intuiciji? Objasnite.  "
   ]
  },
  {
   "cell_type": "markdown",
   "metadata": {},
   "source": [
    "### 8. Multikolinearnost i kondicija matrice"
   ]
  },
  {
   "cell_type": "markdown",
   "metadata": {},
   "source": [
    "**a)** Izradite skup podataka `grades_X_fixed_colinear` tako što ćete u skupu `grades_X_fixed` iz\n",
    "zadatka *7b* duplicirati zadnji stupac (ocjenu iz srednje škole). Time smo efektivno uveli savršenu multikolinearnost."
   ]
  },
  {
   "cell_type": "code",
   "execution_count": 32,
   "metadata": {},
   "outputs": [],
   "source": [
    "part1 = grades_X_fixed[:,0]\n",
    "part2 = grades_X_fixed[:,1]\n",
    "grades_X_fixed_colinear = column_stack((part1, part2, part2))"
   ]
  },
  {
   "cell_type": "markdown",
   "metadata": {},
   "source": [
    "Ponovno, naučite na ovom skupu L2-regularizirani model regresije ($\\lambda = 0.01$)."
   ]
  },
  {
   "cell_type": "code",
   "execution_count": 74,
   "metadata": {},
   "outputs": [
    {
     "name": "stdout",
     "output_type": "stream",
     "text": [
      "8.070315790923504e-17 [0.81630364 0.07583957 0.07583957]\n"
     ]
    }
   ],
   "source": [
    "clf = Ridge(alpha=0.01).fit(grades_X_fixed_colinear, grades_y_fixed)\n",
    "print(clf.intercept_, clf.coef_)"
   ]
  },
  {
   "cell_type": "markdown",
   "metadata": {},
   "source": [
    "**Q:** Usporedite iznose težina s onima koje ste dobili u zadatku *7b*. Što se dogodilo?"
   ]
  },
  {
   "cell_type": "markdown",
   "metadata": {},
   "source": [
    "**b)** Slučajno uzorkujte 50% elemenata iz skupa `grades_X_fixed_colinear` i naučite dva modela L2-regularizirane regresije, jedan s $\\lambda=0.01$ i jedan s $\\lambda=1000$). Ponovite ovaj pokus 10 puta (svaki put s drugim podskupom od 50% elemenata).  Za svaki model, ispišite dobiveni vektor težina u svih 10 ponavljanja te ispišite standardnu devijaciju vrijednosti svake od težina (ukupno šest standardnih devijacija, svaka dobivena nad 10 vrijednosti)."
   ]
  },
  {
   "cell_type": "code",
   "execution_count": 81,
   "metadata": {},
   "outputs": [
    {
     "name": "stdout",
     "output_type": "stream",
     "text": [
      "Za lambda 0.01:  0.022013444364827786 [0.85387657 0.05122082 0.05122082]\n",
      "Za lambda 1000:  0.018999762846578644 [0.15081518 0.03631216 0.03631216]\n",
      "\n",
      "Za lambda 0.01:  -0.032924557269672805 [0.81502681 0.08036876 0.08036876]\n",
      "Za lambda 1000:  0.012324792386866595 [0.17559702 0.02542982 0.02542982]\n",
      "\n",
      "Za lambda 0.01:  0.02970670631417132 [0.83120152 0.06322662 0.06322662]\n",
      "Za lambda 1000:  -0.0028085709025194357 [0.1461931  0.03791338 0.03791338]\n",
      "\n",
      "Za lambda 0.01:  0.031209184483298333 [0.81013482 0.0867717  0.0867717 ]\n",
      "Za lambda 1000:  -0.020328041765492674 [0.16670785 0.02799309 0.02799309]\n",
      "\n",
      "Za lambda 0.01:  -0.024956596281346187 [0.79528438 0.08809109 0.08809109]\n",
      "Za lambda 1000:  0.015868433140246507 [0.1784897  0.03280935 0.03280935]\n",
      "\n",
      "Za lambda 0.01:  0.00018741351332187892 [0.83679775 0.09112951 0.09112951]\n",
      "Za lambda 1000:  0.017515824552376418 [0.16726989 0.02541133 0.02541133]\n",
      "\n",
      "Za lambda 0.01:  0.007976666971674626 [0.79744507 0.06702216 0.06702216]\n",
      "Za lambda 1000:  0.021308615509734598 [0.16744549 0.03912122 0.03912122]\n",
      "\n",
      "Za lambda 0.01:  -0.0006624737735051092 [0.79370036 0.09739396 0.09739396]\n",
      "Za lambda 1000:  0.013102436480562018 [0.17361111 0.02678049 0.02678049]\n",
      "\n",
      "Za lambda 0.01:  0.009369886905288213 [0.81488328 0.07371989 0.07371989]\n",
      "Za lambda 1000:  0.02290728050954808 [0.15128526 0.03814769 0.03814769]\n",
      "\n",
      "Za lambda 0.01:  -0.05010181850730226 [0.795219   0.07849083 0.07849083]\n",
      "Za lambda 1000:  0.05897605486605239 [0.16120972 0.03149516 0.03149516]\n",
      "\n",
      "Standardna devijacija za težinu w1 uz lamdba=0.01: 0.0195\n",
      "Standardna devijacija za težinu w2 uz lamdba=0.01: 0.0134\n",
      "Standardna devijacija za težinu w3 uz lamdba=0.01: 0.0134\n",
      "Standardna devijacija za težinu w1 uz lamdba=1000: 0.0106\n",
      "Standardna devijacija za težinu w2 uz lamdba=1000: 0.0052\n",
      "Standardna devijacija za težinu w3 uz lamdba=1000: 0.0052\n"
     ]
    }
   ],
   "source": [
    "w1_001 = []; w2_001 = []; w3_001 = []\n",
    "w1_1000 = []; w2_1000 = []; w3_1000 = []\n",
    "\n",
    "for i in range(1,11):\n",
    "    X1, X2, y1, y2 = train_test_split(grades_X_fixed_colinear, grades_y_fixed, test_size=0.5)\n",
    "    \n",
    "    clf = Ridge(alpha=0.01).fit(X1, y1)\n",
    "    w1_001.append(clf.coef_[0])\n",
    "    w2_001.append(clf.coef_[1])\n",
    "    w3_001.append(clf.coef_[2])\n",
    "    print(\"Za lambda 0.01: \",clf.intercept_, clf.coef_)\n",
    "\n",
    "    clf = Ridge(alpha=1000).fit(X2, y2)\n",
    "    w1_1000.append(clf.coef_[0])\n",
    "    w2_1000.append(clf.coef_[1])\n",
    "    w3_1000.append(clf.coef_[2])\n",
    "    print(\"Za lambda 1000: \",clf.intercept_, clf.coef_)\n",
    "    print(\"\")\n",
    "    \n",
    "print(\"Standardna devijacija za težinu w1 uz lamdba=0.01: \" + str(round(std(w1_001), 4)))\n",
    "print(\"Standardna devijacija za težinu w2 uz lamdba=0.01: \" + str(round(std(w2_001), 4)))\n",
    "print(\"Standardna devijacija za težinu w3 uz lamdba=0.01: \" + str(round(std(w3_001), 4)))\n",
    "print(\"Standardna devijacija za težinu w1 uz lamdba=1000: \" + str(round(std(w1_1000), 4)))\n",
    "print(\"Standardna devijacija za težinu w2 uz lamdba=1000: \" + str(round(std(w2_1000), 4)))\n",
    "print(\"Standardna devijacija za težinu w3 uz lamdba=1000: \" + str(round(std(w3_1000), 4)))"
   ]
  },
  {
   "cell_type": "markdown",
   "metadata": {},
   "source": [
    "**Q:** Kako regularizacija utječe na stabilnost težina?  \n",
    "**Q:** Jesu li koeficijenti jednakih magnituda kao u prethodnom pokusu? Objasnite zašto."
   ]
  },
  {
   "cell_type": "markdown",
   "metadata": {},
   "source": [
    "**c)** Koristeći [`numpy.linalg.cond`](https://docs.scipy.org/doc/numpy-1.13.0/reference/generated/numpy.linalg.cond.html) izračunajte kondicijski broj matrice $\\mathbf{\\Phi}^\\intercal\\mathbf{\\Phi}+\\lambda\\mathbf{I}$, gdje je $\\mathbf{\\Phi}$ matrica dizajna (`grades_X_fixed_colinear`). Ponovite i za $\\lambda=0.01$ i za $\\lambda=10$.\n"
   ]
  },
  {
   "cell_type": "code",
   "execution_count": 35,
   "metadata": {},
   "outputs": [
    {
     "name": "stdout",
     "output_type": "stream",
     "text": [
      "Kondicijski broj matrice za lambda=0.01 iznosi 100542.8559\n",
      "Kondicijski broj matrice za lambda=10 iznosi 101.5315\n"
     ]
    }
   ],
   "source": [
    "I = identity(3)\n",
    "I[0][0] = 0\n",
    "for lambd in [0.01, 10]:\n",
    "    m = matmul( transpose(grades_X_fixed_colinear), grades_X_fixed_colinear) + lambd*I\n",
    "    \n",
    "    print(\"Kondicijski broj matrice za lambda=\" + str(lambd) + \" iznosi \"+ str(round(linalg.cond(m), 4)))"
   ]
  },
  {
   "cell_type": "markdown",
   "metadata": {},
   "source": [
    "**Q:** Kako regularizacija utječe na kondicijski broj matrice $\\mathbf{\\Phi}^\\intercal\\mathbf{\\Phi}+\\lambda\\mathbf{I}$?  "
   ]
  },
  {
   "cell_type": "code",
   "execution_count": null,
   "metadata": {},
   "outputs": [],
   "source": []
  }
 ],
 "metadata": {
  "anaconda-cloud": {},
  "kernelspec": {
   "display_name": "Python 3",
   "language": "python",
   "name": "python3"
  },
  "language_info": {
   "codemirror_mode": {
    "name": "ipython",
    "version": 3
   },
   "file_extension": ".py",
   "mimetype": "text/x-python",
   "name": "python",
   "nbconvert_exporter": "python",
   "pygments_lexer": "ipython3",
   "version": "3.7.1"
  }
 },
 "nbformat": 4,
 "nbformat_minor": 1
}
